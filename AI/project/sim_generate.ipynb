{
 "cells": [
  {
   "cell_type": "code",
   "execution_count": 9,
   "metadata": {},
   "outputs": [],
   "source": [
    "import random\n",
    "import yaml\n",
    "import os\n",
    "\n",
    "# 기본 YAML 파일 로드 함수\n",
    "def load_base_yaml(file_path):\n",
    "    with open(file_path, 'r') as yaml_file:\n",
    "        return yaml.safe_load(yaml_file)\n",
    "\n",
    "# 가스 소스 위치 무작위 생성 함수\n",
    "def generate_random_source_positions(num_positions, map_width, map_height, z_value=0.5):\n",
    "    positions = []\n",
    "    \n",
    "    for _ in range(num_positions):\n",
    "        x = round(random.uniform(0, map_width), 2)  # 소수점 2자리까지 생성\n",
    "        y = round(random.uniform(0, map_height), 2)\n",
    "        positions.append({'source_x': x, 'source_y': y, 'source_z': z_value})\n",
    "    \n",
    "    return positions\n",
    "\n",
    "# YAML 파일 생성 함수\n",
    "def create_yaml_file(base_data, filename, position):\n",
    "    base_data['source_x'] = position['source_x']\n",
    "    base_data['source_y'] = position['source_y']\n",
    "    base_data['source_z'] = position['source_z']\n",
    "    \n",
    "    with open(filename, 'w') as yaml_file:\n",
    "        yaml.dump(base_data, yaml_file, default_flow_style=False)\n",
    "\n",
    "\n",
    "base_yaml_path = \"/home/piai/gaden/install/test_env/share/test_env/scenarios/10x6_central_obstacle/simulations/sim1.yaml\"  \n",
    "base_yaml_data = load_base_yaml(base_yaml_path)\n",
    "\n",
    "\n",
    "positions = generate_random_source_positions(20, map_width=10, map_height=6)\n",
    "\n",
    "for i, position in enumerate(positions):\n",
    "    filename = f'sim{i+1}.yaml'\n",
    "    create_yaml_file(base_yaml_data, filename, position)"
   ]
  }
 ],
 "metadata": {
  "kernelspec": {
   "display_name": "pado",
   "language": "python",
   "name": "pado"
  },
  "language_info": {
   "codemirror_mode": {
    "name": "ipython",
    "version": 3
   },
   "file_extension": ".py",
   "mimetype": "text/x-python",
   "name": "python",
   "nbconvert_exporter": "python",
   "pygments_lexer": "ipython3",
   "version": "3.11.5"
  }
 },
 "nbformat": 4,
 "nbformat_minor": 2
}
