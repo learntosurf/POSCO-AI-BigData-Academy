{
 "cells": [
  {
   "cell_type": "code",
   "execution_count": 1,
   "metadata": {},
   "outputs": [
    {
     "name": "stdout",
     "output_type": "stream",
     "text": [
      " Student              Name  Midterm     Final     Average     Grade   \n",
      "----------------------------------------------------------------------\n",
      " 20180021        Lee Hyori     93         95        94.0        A     \n",
      " 20180002        Lee Jieun     92         89        90.5        A     \n",
      " 20180009     Lee Yeonghee     81         84        82.5        B     \n",
      " 20180001     Hong Gildong     84         73        78.5        C     \n",
      " 20180006      Lee Sangsun     77         66        71.5        C     \n",
      " 20180007      Kim Cheolsu     75         62        68.5        D     \n"
     ]
    }
   ],
   "source": [
    "def read_student_data(file_path):\n",
    "    students = []\n",
    "    with open(file_path, 'r') as file:\n",
    "        for line in file:\n",
    "            # 파일의 각 줄을 읽어 탭으로 분리하여 값을 얻고 딕셔너리에 추가 \n",
    "            # .strip(): 문자열의 앞과 뒤에 있는 공백을 제거\n",
    "            student_number, name, midterm, final = line.strip().split('\\t')\n",
    "            students.append({\n",
    "                'student_number': student_number,\n",
    "                'name': name,\n",
    "                'midterm': int(midterm),\n",
    "                'final': int(final),\n",
    "                'average': (int(midterm) + int(final)) / 2\n",
    "            })\n",
    "    return students\n",
    "\n",
    "def assign_grade(average):\n",
    "    if average >= 90:\n",
    "        return 'A'\n",
    "    elif average >= 80:\n",
    "        return 'B'\n",
    "    elif average >= 70:\n",
    "        return 'C'\n",
    "    elif average >= 60:\n",
    "        return 'D'\n",
    "    else:\n",
    "        return 'F'\n",
    "\n",
    "def print_student_list(students):\n",
    "    # 헤더 출력\n",
    "    # f-string 형식 지정자를 사용하여 출력\n",
    "    # :< 왼쪽 정렬, :> 오른쪽 정렬, :^ 가운데 정렬\n",
    "    print(f\"{'Student':^10} {'Name':>15} {'Midterm':^10} {'Final':^10} {'Average':^10} {'Grade':^10}\")\n",
    "    print('-' * 70)\n",
    "    # 각 학생의 정보 출력 \n",
    "    for student in students:\n",
    "        grade = assign_grade(student['average'])\n",
    "        print(f\"{student['student_number']:^10} {student['name']:>15} {student['midterm']:^10} {student['final']:^10} {student['average']:^10.1f} {grade:^10}\")\n",
    "\n",
    "def show_students(students):\n",
    "    sorted_students = sorted(students, key=lambda x: x['average'], reverse=True)\n",
    "    print_student_list(sorted_students)\n",
    "\n",
    "file_path = 'newStudents.txt'\n",
    "students = read_student_data(file_path)\n",
    "show_students(students)"
   ]
  }
 ],
 "metadata": {
  "kernelspec": {
   "display_name": "base",
   "language": "python",
   "name": "python3"
  },
  "language_info": {
   "codemirror_mode": {
    "name": "ipython",
    "version": 3
   },
   "file_extension": ".py",
   "mimetype": "text/x-python",
   "name": "python",
   "nbconvert_exporter": "python",
   "pygments_lexer": "ipython3",
   "version": "3.10.9"
  }
 },
 "nbformat": 4,
 "nbformat_minor": 2
}
