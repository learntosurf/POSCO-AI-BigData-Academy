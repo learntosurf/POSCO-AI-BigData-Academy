{
 "cells": [
  {
   "cell_type": "markdown",
   "id": "e4b33c45",
   "metadata": {},
   "source": [
    "## 객체지향 프로그래밍"
   ]
  },
  {
   "cell_type": "code",
   "execution_count": 3,
   "id": "f7113040",
   "metadata": {},
   "outputs": [],
   "source": [
    "class Person:\n",
    "    def __init__(self, name, age, height, weight):\n",
    "        self.name = name \n",
    "        self.age = age\n",
    "        self.height = height\n",
    "        self.weight = weight \n",
    "    \n",
    "    def get_info(self):\n",
    "        print(\"이름: \", self.name)\n",
    "        print(\"나이: \", self.age)\n",
    "        print(\"키: \", self.height)\n",
    "        print(\"몸무게: \", self.weight)\n",
    "        print()\n",
    "    \n",
    "    # 나이 1 증가\n",
    "    def increase_age(self):\n",
    "        self.age += 1\n",
    "    \n",
    "    # 키 변화\n",
    "    def change_height(self, new_height):\n",
    "        self.height = new_height\n",
    "\n",
    "    # 몸무게 변화\n",
    "    def change_weight(self, new_weight):\n",
    "        self.weight = new_weight"
   ]
  },
  {
   "cell_type": "code",
   "execution_count": 7,
   "id": "714ae221",
   "metadata": {},
   "outputs": [],
   "source": [
    "honggildong = Person(\"홍길동\", 10, 170, 70)\n",
    "pado = Person(\"파도\", 25, 160, 60)"
   ]
  },
  {
   "cell_type": "code",
   "execution_count": 13,
   "id": "e856c6f6",
   "metadata": {},
   "outputs": [
    {
     "name": "stdout",
     "output_type": "stream",
     "text": [
      "나이 1 증가 후: 이름=홍길동, 나이=15\n",
      "나이 1 증가 후: 이름=파도, 나이=31\n",
      "\n",
      "키 변화 후: 이름=홍길동, 키=300\n",
      "키 변화 후: 이름=파도, 키=200\n",
      "\n",
      "몸무게 변화 후: 이름=홍길동, 몸무게=200\n",
      "몸무게 변화 후: 이름=파도, 몸무게=100\n",
      "\n"
     ]
    }
   ],
   "source": [
    "# 나이 1 증가\n",
    "honggildong.increase_age()\n",
    "pado.increase_age()\n",
    "print(f\"나이 1 증가 후: 이름={honggildong.name}, 나이={honggildong.age}\")\n",
    "print(f\"나이 1 증가 후: 이름={pado.name}, 나이={pado.age}\")\n",
    "print()\n",
    "\n",
    "# 키 변화\n",
    "honggildong.change_height(300)\n",
    "pado.change_height(200)\n",
    "print(f\"키 변화 후: 이름={honggildong.name}, 키={honggildong.height}\")\n",
    "print(f\"키 변화 후: 이름={pado.name}, 키={pado.height}\")\n",
    "print()\n",
    "\n",
    "# 몸무게 변화\n",
    "honggildong.change_weight(200)\n",
    "pado.change_weight(100)\n",
    "print(f\"몸무게 변화 후: 이름={honggildong.name}, 몸무게={honggildong.weight}\")\n",
    "print(f\"몸무게 변화 후: 이름={pado.name}, 몸무게={pado.weight}\")\n",
    "print()"
   ]
  },
  {
   "cell_type": "code",
   "execution_count": 42,
   "id": "ba3e1542",
   "metadata": {},
   "outputs": [],
   "source": [
    "class BankAccount:\n",
    "    def __init__(self, balance=0, name=None):\n",
    "        self.balance = balance\n",
    "        self.name = name \n",
    "    \n",
    "    # 입금\n",
    "    def deposit(self, amount):\n",
    "        self.balance += amount\n",
    "    \n",
    "    # 출금 \n",
    "    def withdraw(self, amount):\n",
    "        if self.balance >= amount:\n",
    "            self.balance -= amount\n",
    "            return True \n",
    "        else:\n",
    "            print(\"잔액 부족\")\n",
    "            return False\n",
    "    \n",
    "    def get_info(self):\n",
    "        print(\"이름: \", self.name)\n",
    "        print(\"잔고: \", self.balance)"
   ]
  },
  {
   "cell_type": "code",
   "execution_count": 43,
   "id": "a879e064",
   "metadata": {},
   "outputs": [
    {
     "name": "stdout",
     "output_type": "stream",
     "text": [
      "실행 시나리오 1\n",
      "잔액 부족\n",
      "이름:  Gildong Hong\n",
      "잔고:  500\n",
      "\n",
      "실행 시나리오 2\n",
      "이름:  Gildong Hong\n",
      "잔고:  200\n",
      "\n"
     ]
    }
   ],
   "source": [
    "a = BankAccount(100, \"Gildong Hong\")\n",
    "b = BankAccount(100, \"Gildong Hong\")\n",
    "\n",
    "print(\"실행 시나리오 1\")\n",
    "a.deposit(400)\n",
    "a.withdraw(600)\n",
    "a.get_info()\n",
    "print()\n",
    "\n",
    "print(\"실행 시나리오 2\")\n",
    "b.deposit(1000)\n",
    "b.withdraw(900)\n",
    "b.get_info()\n",
    "print()"
   ]
  },
  {
   "cell_type": "code",
   "execution_count": 45,
   "id": "1d16d076",
   "metadata": {},
   "outputs": [],
   "source": [
    "class BankAccount:\n",
    "    def __init__(self, balance=0, name=None):\n",
    "        self.balance = balance\n",
    "        self.name = name \n",
    "    \n",
    "    # 입금\n",
    "    def deposit(self, amount):\n",
    "        self.balance += amount\n",
    "    \n",
    "    # 출금 \n",
    "    def withdraw(self, amount):\n",
    "        if self.balance >= amount:\n",
    "            self.balance -= amount\n",
    "            return True \n",
    "        else:\n",
    "            print(\"잔액 부족\")\n",
    "            return False\n",
    "    \n",
    "    def transfer(self, other, amount):\n",
    "        if self.balance >= amount:\n",
    "            self.balance -= amount\n",
    "            other.deposit(amount)\n",
    "    \n",
    "    def get_info(self):\n",
    "        print(\"이름: \", self.name)\n",
    "        print(\"잔고: \", self.balance)"
   ]
  },
  {
   "cell_type": "code",
   "execution_count": 46,
   "id": "a1c822dc",
   "metadata": {},
   "outputs": [
    {
     "name": "stdout",
     "output_type": "stream",
     "text": [
      "이름:  고길동\n",
      "잔고:  700\n",
      "이름:  고영희\n",
      "잔고:  500\n"
     ]
    }
   ],
   "source": [
    "acc1 = BankAccount(1000, \"고길동\")\n",
    "acc2 = BankAccount(200, \"고영희\")\n",
    "acc1.transfer(acc2, 300)\n",
    "acc1.get_info()\n",
    "acc2.get_info()"
   ]
  },
  {
   "cell_type": "code",
   "execution_count": 47,
   "id": "05570608",
   "metadata": {
    "scrolled": true
   },
   "outputs": [
    {
     "name": "stdout",
     "output_type": "stream",
     "text": [
      "이름:  고길동\n",
      "잔고:  1000\n",
      "이름:  고희동\n",
      "잔고:  0\n"
     ]
    }
   ],
   "source": [
    "acc1 = BankAccount(1000, \"고길동\")\n",
    "acc2 = BankAccount(0, \"고희동\")\n",
    "acc1.transfer(acc2, 2000)\n",
    "acc1.get_info()\n",
    "acc2.get_info()"
   ]
  },
  {
   "cell_type": "code",
   "execution_count": 48,
   "id": "54d78d5a",
   "metadata": {},
   "outputs": [],
   "source": [
    "class MinimumBalanceAccount(BankAccount):\n",
    "    def __init__(self, balance=0, name=None, min_balance=0):\n",
    "        super().__init__(balance, name)\n",
    "        self.min_balance = min_balance\n",
    "\n",
    "    # 출금 (재정의)\n",
    "    def withdraw(self, amount):\n",
    "        if self.balance - amount < self.min_balance:\n",
    "            print(\"최소 잔액을 유지해야 합니다\")\n",
    "            return False\n",
    "        else:\n",
    "            return super().withdraw(amount)"
   ]
  },
  {
   "cell_type": "code",
   "execution_count": 49,
   "id": "3006d610",
   "metadata": {},
   "outputs": [
    {
     "name": "stdout",
     "output_type": "stream",
     "text": [
      "최소 잔액을 유지해야 합니다\n"
     ]
    },
    {
     "data": {
      "text/plain": [
       "False"
      ]
     },
     "execution_count": 49,
     "metadata": {},
     "output_type": "execute_result"
    }
   ],
   "source": [
    "acc = MinimumBalanceAccount(500, \"Kim\", 1000)\n",
    "acc.deposit(1000)\n",
    "acc.withdraw(600)"
   ]
  },
  {
   "cell_type": "code",
   "execution_count": null,
   "id": "bf541cca",
   "metadata": {},
   "outputs": [],
   "source": []
  }
 ],
 "metadata": {
  "kernelspec": {
   "display_name": "Python 3 (ipykernel)",
   "language": "python",
   "name": "python3"
  },
  "language_info": {
   "codemirror_mode": {
    "name": "ipython",
    "version": 3
   },
   "file_extension": ".py",
   "mimetype": "text/x-python",
   "name": "python",
   "nbconvert_exporter": "python",
   "pygments_lexer": "ipython3",
   "version": "3.10.9"
  }
 },
 "nbformat": 4,
 "nbformat_minor": 5
}
