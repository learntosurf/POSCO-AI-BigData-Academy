{
 "cells": [
  {
   "cell_type": "code",
   "execution_count": 1,
   "id": "d13a4c51",
   "metadata": {},
   "outputs": [
    {
     "name": "stdout",
     "output_type": "stream",
     "text": [
      "Hello, World!\n"
     ]
    }
   ],
   "source": [
    "print(\"Hello, World!\")"
   ]
  },
  {
   "cell_type": "code",
   "execution_count": 2,
   "id": "a769694c",
   "metadata": {},
   "outputs": [
    {
     "data": {
      "text/plain": [
       "'/home/piai'"
      ]
     },
     "execution_count": 2,
     "metadata": {},
     "output_type": "execute_result"
    }
   ],
   "source": [
    "pwd"
   ]
  },
  {
   "cell_type": "code",
   "execution_count": 3,
   "id": "821bceeb",
   "metadata": {},
   "outputs": [
    {
     "name": "stdout",
     "output_type": "stream",
     "text": [
      "Anaconda3-2023.03-1-Linux-x86_64.sh  \u001b[0m\u001b[01;34m공개\u001b[0m/      \u001b[01;34m바탕화면\u001b[0m/  \u001b[01;34m음악\u001b[0m/\r\n",
      "\u001b[01;34manaconda3\u001b[0m/                           \u001b[01;34m다운로드\u001b[0m/  \u001b[01;34m비디오\u001b[0m/    \u001b[01;34m템플릿\u001b[0m/\r\n",
      "test.ipynb                           \u001b[01;34m문서\u001b[0m/      \u001b[01;34m사진\u001b[0m/\r\n"
     ]
    }
   ],
   "source": [
    "ls"
   ]
  },
  {
   "cell_type": "code",
   "execution_count": 11,
   "id": "b3292698",
   "metadata": {},
   "outputs": [
    {
     "data": {
      "text/plain": [
       "'3.10.9 (main, Mar  1 2023, 18:23:06) [GCC 11.2.0]'"
      ]
     },
     "execution_count": 11,
     "metadata": {},
     "output_type": "execute_result"
    }
   ],
   "source": [
    "import sys\n",
    "sys.version "
   ]
  },
  {
   "cell_type": "code",
   "execution_count": 34,
   "id": "7e4c480c",
   "metadata": {},
   "outputs": [
    {
     "name": "stdout",
     "output_type": "stream",
     "text": [
      "첫 번째 정수를 입력하세요: 10\n",
      "두 번째 정수를 입력하세요: 5\n",
      "10+5=15\n",
      "10-5=5\n",
      "10*5=50\n",
      "10/5=2.0\n"
     ]
    }
   ],
   "source": [
    "num1 = int(input(\"첫 번째 정수를 입력하세요: \"))\n",
    "num2 = int(input(\"두 번째 정수를 입력하세요: \"))\n",
    "\n",
    "print(f\"{num1}+{num2}={num1+num2}\")\n",
    "print(f\"{num1}-{num2}={num1-num2}\")\n",
    "print(f\"{num1}*{num2}={num1*num2}\")\n",
    "print(f\"{num1}/{num2}={num1/num2}\")"
   ]
  },
  {
   "cell_type": "markdown",
   "id": "6bfb67cf",
   "metadata": {},
   "source": [
    "## 집합"
   ]
  },
  {
   "cell_type": "code",
   "execution_count": 20,
   "id": "434f5408",
   "metadata": {},
   "outputs": [
    {
     "data": {
      "text/plain": [
       "{3, 4, 5}"
      ]
     },
     "execution_count": 20,
     "metadata": {},
     "output_type": "execute_result"
    }
   ],
   "source": [
    "s1 = set([1,2,2,3,3,3,4,2])\n",
    "s1 \n",
    "s2 = {3,4,5}\n",
    "s2"
   ]
  },
  {
   "cell_type": "code",
   "execution_count": 14,
   "id": "6753edda",
   "metadata": {},
   "outputs": [
    {
     "data": {
      "text/plain": [
       "'HelloHello'"
      ]
     },
     "execution_count": 14,
     "metadata": {},
     "output_type": "execute_result"
    }
   ],
   "source": [
    "word = \"Hello\"*2\n",
    "word"
   ]
  },
  {
   "cell_type": "code",
   "execution_count": 15,
   "id": "f7b24952",
   "metadata": {},
   "outputs": [
    {
     "data": {
      "text/plain": [
       "{'H', 'e', 'l', 'o'}"
      ]
     },
     "execution_count": 15,
     "metadata": {},
     "output_type": "execute_result"
    }
   ],
   "source": [
    "word_list = list(word)\n",
    "word_list\n",
    "s3 = set(word_list)\n",
    "s3"
   ]
  },
  {
   "cell_type": "code",
   "execution_count": 16,
   "id": "ca4c820f",
   "metadata": {},
   "outputs": [
    {
     "data": {
      "text/plain": [
       "{'H', 'e', 'l', 'o'}"
      ]
     },
     "execution_count": 16,
     "metadata": {},
     "output_type": "execute_result"
    }
   ],
   "source": [
    "s4 = set(\"Hello\")\n",
    "s4"
   ]
  },
  {
   "cell_type": "code",
   "execution_count": 19,
   "id": "4e8964f6",
   "metadata": {},
   "outputs": [
    {
     "data": {
      "text/plain": [
       "set()"
      ]
     },
     "execution_count": 19,
     "metadata": {},
     "output_type": "execute_result"
    }
   ],
   "source": [
    "s = {1,2,3,4,5,3,4}\n",
    "s\n",
    "\n",
    "s.add(10)\n",
    "s\n",
    "\n",
    "s.remove(2)\n",
    "s\n",
    "\n",
    "s.update([1,3,5,7,9]) # 여러개의 원소를 추가할 수 있는 함수 \n",
    "s\n",
    "\n",
    "s.clear()\n",
    "s"
   ]
  },
  {
   "cell_type": "code",
   "execution_count": 22,
   "id": "1bf09329",
   "metadata": {},
   "outputs": [
    {
     "data": {
      "text/plain": [
       "{4, 5}"
      ]
     },
     "execution_count": 22,
     "metadata": {},
     "output_type": "execute_result"
    }
   ],
   "source": [
    "s1 = {1,2,3}\n",
    "s2 = {3,4,5}\n",
    "\n",
    "# 합집합 \n",
    "s1.union(s2)\n",
    "\n",
    "# 교집합\n",
    "s1.intersection(s2)\n",
    "\n",
    "# 차집합\n",
    "# 집합의 순서에 따라 다른 결과 \n",
    "s1.difference(s2) # s1-s2\n",
    "s2.difference(s1) # s2-s1"
   ]
  },
  {
   "cell_type": "code",
   "execution_count": 44,
   "id": "d08635cc",
   "metadata": {},
   "outputs": [
    {
     "name": "stdout",
     "output_type": "stream",
     "text": [
      "{'Bob', 'Alice'} {'Frank', 'Ella', 'Charlie', 'David'}\n",
      "set() {'Charlie', 'David', 'Ella', 'Bob', 'George', 'Alice'}\n"
     ]
    }
   ],
   "source": [
    "def find_participants(p1, p2):\n",
    "    both = p1.intersection(p2)\n",
    "    one = p1.union(p2).difference(both)\n",
    "    return both, one \n",
    "\n",
    "A = {'Alice', 'Bob', 'Charlie', 'David'}\n",
    "B = {'Alice', 'Ella', 'Frank', 'Bob'}\n",
    "C = {'George', 'Ella'}\n",
    "\n",
    "both1, one1 = find_participants(A, B)\n",
    "both2, one2 = find_participants(A, C)\n",
    "\n",
    "print(both1, one1)\n",
    "print(both2, one2)"
   ]
  },
  {
   "cell_type": "markdown",
   "id": "2e44ebbd",
   "metadata": {},
   "source": [
    "## 딕셔너리"
   ]
  },
  {
   "cell_type": "code",
   "execution_count": 33,
   "id": "bb3fff1d",
   "metadata": {},
   "outputs": [
    {
     "name": "stdout",
     "output_type": "stream",
     "text": [
      "{'kim': 1, 'park': 2}\n",
      "{'kim': 3, 'park': 2}\n",
      "{'kim': 3, 'park': 2, 'yoon': 3}\n"
     ]
    }
   ],
   "source": [
    "# key를 사용하여 value에 접근\n",
    "# d = {key1:value1, key2:value2}\n",
    "d = {}\n",
    "d['kim'] = 1\n",
    "d['park'] = 2\n",
    "print(d)\n",
    "\n",
    "d['park']\n",
    "\n",
    "d['kim'] = 3\n",
    "print(d)\n",
    "\n",
    "d['yoon'] = 3\n",
    "print(d)\n",
    "\n",
    "d.keys()\n",
    "d.values()\n",
    "\n",
    "d.items() # 키와 값의 항목을 튜플 형태로 반환 \n",
    "\n",
    "'kim' in d # 딕셔너리에 키가 있는 경우 (True/False)\n",
    "\n",
    "del d['kim']\n",
    "\n",
    "d.clear()"
   ]
  },
  {
   "cell_type": "code",
   "execution_count": 35,
   "id": "0c6acd36",
   "metadata": {},
   "outputs": [
    {
     "name": "stdout",
     "output_type": "stream",
     "text": [
      "3\n",
      "2\n",
      "1\n"
     ]
    }
   ],
   "source": [
    "d = {'kim':3, 'park':2, 'yoon':1}\n",
    "\n",
    "for value in d.values():\n",
    "    print(value)"
   ]
  },
  {
   "cell_type": "code",
   "execution_count": 39,
   "id": "feebcdfc",
   "metadata": {},
   "outputs": [
    {
     "name": "stdout",
     "output_type": "stream",
     "text": [
      "Enter a sentence: Python is fun!\n",
      "{'P': 1, 'y': 1, 't': 1, 'h': 1, 'o': 1, 'n': 2, ' ': 2, 'i': 1, 's': 1, 'f': 1, 'u': 1, '!': 1}\n"
     ]
    }
   ],
   "source": [
    "sent = input(\"Enter a sentence: \")\n",
    "\n",
    "dict = {}\n",
    "\n",
    "for word in sent: \n",
    "    # 문자가 딕셔너리에 있으면 1을 추가 \n",
    "    if word in dict:\n",
    "        dict[word] += 1\n",
    "    # 문자가 딕셔너리에 없으면 새로 추가\n",
    "    else:\n",
    "        dict[word] = 1\n",
    "\n",
    "print(dict)"
   ]
  },
  {
   "cell_type": "markdown",
   "id": "08484756",
   "metadata": {},
   "source": [
    "## 함수와 모듈 "
   ]
  },
  {
   "cell_type": "code",
   "execution_count": 45,
   "id": "fd30c59e",
   "metadata": {},
   "outputs": [],
   "source": [
    "# 주어진 변수들을 이용하여, 일정한 동작을 수행하고, 그 결과가 나오는 코드 "
   ]
  },
  {
   "cell_type": "code",
   "execution_count": 51,
   "id": "533c1b37",
   "metadata": {},
   "outputs": [
    {
     "name": "stdout",
     "output_type": "stream",
     "text": [
      "6 14\n",
      "6 14\n"
     ]
    }
   ],
   "source": [
    "def my_len(x):\n",
    "    length = 0\n",
    "    for i in x:\n",
    "        length += 1\n",
    "        \n",
    "    return length\n",
    "\n",
    "a = [5,5,6,7,8,3]\n",
    "b = 'Life is short.'\n",
    "\n",
    "print(len(a), len(b)) \n",
    "print(my_len(a), my_len(b))"
   ]
  },
  {
   "cell_type": "code",
   "execution_count": 54,
   "id": "aa63306e",
   "metadata": {},
   "outputs": [
    {
     "name": "stdout",
     "output_type": "stream",
     "text": [
      "a: 2\n",
      "b: 5\n"
     ]
    },
    {
     "data": {
      "text/plain": [
       "120"
      ]
     },
     "execution_count": 54,
     "metadata": {},
     "output_type": "execute_result"
    }
   ],
   "source": [
    "def mult(a, b):\n",
    "    result = 1\n",
    "    for i in range(a, b+1):\n",
    "        result *= i \n",
    "    return result\n",
    "\n",
    "a = int(input(\"a: \"))\n",
    "b = int(input(\"b: \"))\n",
    "mult(a, b)"
   ]
  },
  {
   "cell_type": "code",
   "execution_count": 3,
   "id": "0d133ffc",
   "metadata": {},
   "outputs": [
    {
     "name": "stdout",
     "output_type": "stream",
     "text": [
      "7 -9\n",
      "1 -1\n"
     ]
    }
   ],
   "source": [
    "def sum_pos_neg(l):\n",
    "    possum = 0\n",
    "    negsum = 0\n",
    "    for i in l:\n",
    "        if i > 0:\n",
    "            possum += i\n",
    "        else: \n",
    "            negsum += i    \n",
    "    return possum, negsum\n",
    "\n",
    "possum, negsum = sum_pos_neg([3,4,-6,-3])\n",
    "print(possum, negsum)\n",
    "\n",
    "mylist = [0,0,0,0,0,0,0,0,0,1,-1]\n",
    "possum2, negsum2 = sum_pos_neg(mylist)\n",
    "print(possum2, negsum2)"
   ]
  },
  {
   "cell_type": "markdown",
   "id": "2c7cea9e",
   "metadata": {},
   "source": [
    "## 가변 매개변수\n",
    "- 가변 매개변수 뒤에는 일반 매개변수가 올 수 없음\n",
    "- 가변 매개변수는 하나만 사용 가능"
   ]
  },
  {
   "cell_type": "code",
   "execution_count": 89,
   "id": "52548b5d",
   "metadata": {},
   "outputs": [
    {
     "name": "stdout",
     "output_type": "stream",
     "text": [
      "[1.5, 1.5] [7.5, 5.5] [4.13, 2.72]\n"
     ]
    }
   ],
   "source": [
    "# 1개 이상의 2차원 벡터들을 전달받아 벡터들의 합을 구하여 반환하는 함수를 작성하시오 \n",
    "def vector_sum(vector, *vectors):\n",
    "    # 첫번째 벡터를 결과 벡터로 초기화 \n",
    "    result = [vector[0], vector[1]]\n",
    "    \n",
    "    # 나머지 벡터의 요소들을 순차적으로 더함\n",
    "    for v in vectors:\n",
    "#         print(v)\n",
    "#         print(vectors)\n",
    "        result[0] += v[0]\n",
    "        result[1] += v[1]\n",
    "    return result\n",
    "\n",
    "    \n",
    "v1 = [0,1]\n",
    "v2 = [0.5,0.5]\n",
    "v3 = [1,0]\n",
    "v4 = [6,4]\n",
    "v5 = [3.13, 2.72]\n",
    "\n",
    "m1 = vector_sum(v1, v2, v3)\n",
    "m2 = vector_sum(v1, v2, v3, v4)\n",
    "m3 = vector_sum(v3, v5)\n",
    "print(m1, m2, m3)"
   ]
  },
  {
   "cell_type": "code",
   "execution_count": 90,
   "id": "16e26d62",
   "metadata": {},
   "outputs": [
    {
     "name": "stdout",
     "output_type": "stream",
     "text": [
      "[1.5, 1.5] [7.5, 5.5] [4.13, 2.72]\n"
     ]
    }
   ],
   "source": [
    "def vector_sum(vector, *vectors):\n",
    "    x_sum, y_sum = vector\n",
    "    for x, y in vectors:\n",
    "        x_sum += x\n",
    "        y_sum += y \n",
    "    return [x_sum, y_sum]\n",
    "\n",
    "v1 = [0,1]\n",
    "v2 = [0.5,0.5]\n",
    "v3 = [1,0]\n",
    "v4 = [6,4]\n",
    "v5 = [3.13, 2.72]\n",
    "\n",
    "m1 = vector_sum(v1, v2, v3)\n",
    "m2 = vector_sum(v1, v2, v3, v4)\n",
    "m3 = vector_sum(v3, v5)\n",
    "print(m1, m2, m3)"
   ]
  },
  {
   "cell_type": "markdown",
   "id": "873d8c2e",
   "metadata": {},
   "source": [
    "## 디폴트 매개변수 "
   ]
  },
  {
   "cell_type": "code",
   "execution_count": 95,
   "id": "f20546f3",
   "metadata": {},
   "outputs": [
    {
     "name": "stdout",
     "output_type": "stream",
     "text": [
      "[1, 1, 2, 2, 3, 5, 9]\n",
      "[0, 4, 6, 9]\n",
      "[0, 0]\n"
     ]
    }
   ],
   "source": [
    "def merge_list(l1=[0], l2=[0]):\n",
    "    final_list = sorted(l1 + l2)\n",
    "    return final_list\n",
    "    \n",
    "l = [3,5,9,1,2]\n",
    "ml1 = merge_list(l, [2,1])\n",
    "ml2 = merge_list([6,9,4])\n",
    "ml3 = merge_list()\n",
    "\n",
    "print(ml1)\n",
    "print(ml2)\n",
    "print(ml3)"
   ]
  },
  {
   "cell_type": "markdown",
   "id": "0c051d74",
   "metadata": {},
   "source": [
    "## 모듈"
   ]
  },
  {
   "cell_type": "code",
   "execution_count": 112,
   "id": "f910106c",
   "metadata": {},
   "outputs": [
    {
     "name": "stdout",
     "output_type": "stream",
     "text": [
      "** 로또 번호 자동 기입을 시작합니다 **\n",
      "0번째 자동 기입 ==> [2, 10, 24, 27, 33, 42]\n",
      "1번째 자동 기입 ==> [2, 6, 7, 28, 35, 39]\n",
      "2번째 자동 기입 ==> [7, 11, 22, 27, 31, 36]\n",
      "3번째 자동 기입 ==> [2, 9, 12, 16, 18, 19]\n",
      "4번째 자동 기입 ==> [30, 31, 33, 34, 41, 42]\n"
     ]
    }
   ],
   "source": [
    "import random \n",
    "\n",
    "print(\"** 로또 번호 자동 기입을 시작합니다 **\")\n",
    "for i in range(5):\n",
    "    num = random.sample(range(1,46), 6) # \n",
    "    print(f\"{i}번째 자동 기입 ==> {sorted(num)}\")"
   ]
  },
  {
   "cell_type": "code",
   "execution_count": 109,
   "id": "8aebcdcb",
   "metadata": {},
   "outputs": [
    {
     "name": "stdout",
     "output_type": "stream",
     "text": [
      "** 로또 번호 자동 기입을 시작합니다 **\n",
      "0번째 자동 기입 => 6 7 9 25 41 43 \n",
      "1번째 자동 기입 => 2 7 9 22 38 41 \n",
      "2번째 자동 기입 => 3 9 16 29 31 44 \n",
      "3번째 자동 기입 => 5 14 23 27 36 38 \n",
      "4번째 자동 기입 => 10 13 14 15 34 40 \n"
     ]
    }
   ],
   "source": [
    "import random\n",
    "\n",
    "print(\"** 로또 번호 자동 기입을 시작합니다 **\")\n",
    "\n",
    "for j in range(5):\n",
    "    a = []\n",
    "    for i in range(6):\n",
    "        x = random.randint(1, 45)\n",
    "        while x in a:\n",
    "            x = random.randint(1, 45)\n",
    "        a.append(x)\n",
    "    a_sorted = sorted(a)\n",
    "    print(f\"{j}번째 자동 기입 => \", end='')\n",
    "    for k in a_sorted:\n",
    "        print(k, end=' ')\n",
    "    print()"
   ]
  },
  {
   "cell_type": "code",
   "execution_count": 105,
   "id": "0cdc8792",
   "metadata": {},
   "outputs": [
    {
     "name": "stdout",
     "output_type": "stream",
     "text": [
      "1\n",
      "9\n",
      "[3, 5, 2]\n"
     ]
    }
   ],
   "source": [
    "def get_min_max(l):\n",
    "    min_val = min(l)\n",
    "    max_val = max(l)\n",
    "    return min_val, max_val\n",
    "\n",
    "l = [3,5,9,1,2]\n",
    "min_val, max_val = get_min_max(l)\n",
    "l.remove(min_val)\n",
    "l.remove(max_val)\n",
    "\n",
    "\n",
    "print(min_val)\n",
    "print(max_val)\n",
    "print(l)"
   ]
  },
  {
   "cell_type": "code",
   "execution_count": 108,
   "id": "a5be14db",
   "metadata": {},
   "outputs": [
    {
     "name": "stdout",
     "output_type": "stream",
     "text": [
      "{'a': 3, 'b': 3, 'd': 7, 'e': 9, 'c': 4}\n"
     ]
    }
   ],
   "source": [
    "def comb_dict(d1, d2):\n",
    "    result = {}\n",
    "\n",
    "    # 첫 번째 딕셔너리의 키-값 쌍을 새로운 딕셔너리에 추가\n",
    "    for key, value in d1.items():\n",
    "        result[key] = value\n",
    "\n",
    "    # 두 번째 딕셔너리의 키-값 쌍을 순회\n",
    "    for key, value in d2.items():\n",
    "        if key in result:\n",
    "            result[key] += value\n",
    "        else:\n",
    "            result[key] = value\n",
    "\n",
    "    return result\n",
    "\n",
    "d1 = {'a': 1, 'b': 3, 'd': 7, 'e': 8}\n",
    "d2 = {'a': 2, 'c': 4, 'e': 1}\n",
    "d3 = comb_dict(d1, d2)\n",
    "print(d3)"
   ]
  },
  {
   "cell_type": "markdown",
   "id": "2ff2c903",
   "metadata": {},
   "source": [
    "## 파일"
   ]
  },
  {
   "cell_type": "code",
   "execution_count": 117,
   "id": "77ab8a56",
   "metadata": {},
   "outputs": [],
   "source": [
    "f = open(\"new.txt\", \"w\")\n",
    "\n",
    "for i in range(1, 6):\n",
    "    data = \"%d line\\n\" %i\n",
    "    f.write(data)\n",
    "    \n",
    "f.close()"
   ]
  },
  {
   "cell_type": "code",
   "execution_count": 119,
   "id": "b720ceca",
   "metadata": {},
   "outputs": [
    {
     "name": "stdout",
     "output_type": "stream",
     "text": [
      "1 line\n",
      "2 line\n"
     ]
    }
   ],
   "source": [
    "# 파일에서 한 줄 읽기 \n",
    "f = open(\"new.txt\", \"r\")\n",
    "line = f.readline()\n",
    "print(line, end='')\n",
    "\n",
    "line = f.readline()\n",
    "print(line, end='')\n",
    "\n",
    "f.close()"
   ]
  },
  {
   "cell_type": "code",
   "execution_count": 120,
   "id": "6e0ad11b",
   "metadata": {},
   "outputs": [
    {
     "name": "stdout",
     "output_type": "stream",
     "text": [
      "['1 line\\n', '2 line\\n', '3 line\\n', '4 line\\n', '5 line\\n']\n"
     ]
    }
   ],
   "source": [
    "# 모든 라인을 한꺼번에 읽어서 각각의 줄을 요소로 갖는 리스트를 반환 \n",
    "f = open(\"new.txt\", \"r\")\n",
    "lines = f.readlines()\n",
    "print(lines)\n",
    "\n",
    "f.close()"
   ]
  },
  {
   "cell_type": "code",
   "execution_count": 121,
   "id": "1b0bed34",
   "metadata": {},
   "outputs": [],
   "source": [
    "f = open(\"new.txt\", \"a\")\n",
    "\n",
    "for i in range(6, 11):\n",
    "    data = \"%d line\\n\" %i\n",
    "    f.write(data)\n",
    "    \n",
    "f.close()"
   ]
  },
  {
   "cell_type": "code",
   "execution_count": 122,
   "id": "561cbe48",
   "metadata": {},
   "outputs": [],
   "source": [
    "f = open(\"output.txt\", \"w\")\n",
    "f.write(\"Python is fun!\")\n",
    "f.close()"
   ]
  }
 ],
 "metadata": {
  "kernelspec": {
   "display_name": "Python 3 (ipykernel)",
   "language": "python",
   "name": "python3"
  },
  "language_info": {
   "codemirror_mode": {
    "name": "ipython",
    "version": 3
   },
   "file_extension": ".py",
   "mimetype": "text/x-python",
   "name": "python",
   "nbconvert_exporter": "python",
   "pygments_lexer": "ipython3",
   "version": "3.10.9"
  }
 },
 "nbformat": 4,
 "nbformat_minor": 5
}
